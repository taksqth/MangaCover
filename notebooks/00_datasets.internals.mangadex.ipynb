{
 "cells": [
  {
   "cell_type": "code",
   "execution_count": null,
   "metadata": {},
   "outputs": [],
   "source": [
    "# default_exp datasets.internals.MangaDex"
   ]
  },
  {
   "cell_type": "markdown",
   "metadata": {},
   "source": [
    "# MangaDexClient\n",
    "\n",
    "This class defines some wrappers for the MangaDex API (https://api.mangadex.org/docs.html), which we use to get manga labels and cover image urls from their database. We can use those to create our datasets for training."
   ]
  },
  {
   "cell_type": "code",
   "execution_count": null,
   "metadata": {},
   "outputs": [],
   "source": [
    "# hide\n",
    "from nbdev.showdoc import *"
   ]
  },
  {
   "cell_type": "code",
   "execution_count": null,
   "metadata": {},
   "outputs": [],
   "source": [
    "# export\n",
    "import requests\n",
    "import json\n",
    "\n",
    "\n",
    "class MangaDexClient:\n",
    "    \"\"\"Client for the MangaDex API\"\"\"\n",
    "\n",
    "    def __init__(self, credentials_file):\n",
    "        with open(credentials_file) as config_file:\n",
    "            data = config_file.read()\n",
    "\n",
    "        response = requests.post(\n",
    "            \"https://api.mangadex.org/auth/login\", json=json.loads(data)\n",
    "        )\n",
    "        content = json.loads(response.content)\n",
    "        self.refresh_token = content[\"token\"][\"refresh\"]\n",
    "        self.session_token = content[\"token\"][\"session\"]\n",
    "\n",
    "    def get_manga_tags(self):\n",
    "        \"\"\"Returns a dict from human readable tag names to tag_ids for each tag in the mangadex database\"\"\"\n",
    "        response = requests.get(\n",
    "            \"https://api.mangadex.org/manga/tag\",\n",
    "            headers={\n",
    "                \"Authorization\": f\"Bearer {self.session_token}\",\n",
    "            },\n",
    "        )\n",
    "        content = json.loads(response.content)\n",
    "        return {\n",
    "            item[\"data\"][\"attributes\"][\"name\"][\"en\"]: item[\"data\"][\"id\"]\n",
    "            for item in content\n",
    "        }\n",
    "\n",
    "    def search_manga_tags_covers(\n",
    "        self, total=None, limit=100, offset=0, includedTags=None, excludedTags=None\n",
    "    ):\n",
    "        \"\"\"Gets a list of manga with id, tags and cover image filenames\"\"\"\n",
    "        contents = []\n",
    "        while total is None or offset < total:\n",
    "            response = requests.get(\n",
    "                \"https://api.mangadex.org/manga\",\n",
    "                params={\n",
    "                    \"limit\": limit if not total else min(limit, total - offset),\n",
    "                    \"offset\": offset,\n",
    "                    \"includedTags[]\": includedTags,\n",
    "                    \"excludedTags[]\": excludedTags,\n",
    "                    \"includes[]\": \"cover_art\",\n",
    "                },\n",
    "                headers={\n",
    "                    \"Authorization\": f\"Bearer {self.session_token}\",\n",
    "                },\n",
    "            )\n",
    "            content = json.loads(response.content)\n",
    "            if not total:\n",
    "                total = content[\"total\"]\n",
    "            contents.append(content)\n",
    "            offset += limit\n",
    "\n",
    "        return [\n",
    "            {\n",
    "                \"mangaId\": result[\"data\"][\"id\"],\n",
    "                \"tags\": [\n",
    "                    tag[\"attributes\"][\"name\"][\"en\"]\n",
    "                    for tag in result[\"data\"][\"attributes\"][\"tags\"]\n",
    "                ],\n",
    "                \"cover_art_filenames\": [\n",
    "                    relationship[\"attributes\"][\"fileName\"]\n",
    "                    for relationship in result[\"relationships\"]\n",
    "                    if relationship[\"type\"] == \"cover_art\"\n",
    "                ],\n",
    "            }\n",
    "            for content in contents\n",
    "            for result in content[\"results\"]\n",
    "        ]"
   ]
  },
  {
   "cell_type": "code",
   "execution_count": null,
   "metadata": {},
   "outputs": [
    {
     "ename": "FileNotFoundError",
     "evalue": "[Errno 2] No such file or directory: 'credentials.json'",
     "output_type": "error",
     "traceback": [
      "\u001b[0;31m---------------------------------------------------------------------------\u001b[0m",
      "\u001b[0;31mFileNotFoundError\u001b[0m                         Traceback (most recent call last)",
      "\u001b[0;32m<ipython-input-8-69f624f39752>\u001b[0m in \u001b[0;36m<module>\u001b[0;34m\u001b[0m\n\u001b[0;32m----> 1\u001b[0;31m \u001b[0mclient\u001b[0m \u001b[0;34m=\u001b[0m \u001b[0mMangaDexClient\u001b[0m\u001b[0;34m(\u001b[0m\u001b[0;34m\"credentials.json\"\u001b[0m\u001b[0;34m)\u001b[0m\u001b[0;34m\u001b[0m\u001b[0;34m\u001b[0m\u001b[0m\n\u001b[0m",
      "\u001b[0;32m<ipython-input-7-99efb414020d>\u001b[0m in \u001b[0;36m__init__\u001b[0;34m(self, credentials_file)\u001b[0m\n\u001b[1;32m      8\u001b[0m \u001b[0;34m\u001b[0m\u001b[0m\n\u001b[1;32m      9\u001b[0m     \u001b[0;32mdef\u001b[0m \u001b[0m__init__\u001b[0m\u001b[0;34m(\u001b[0m\u001b[0mself\u001b[0m\u001b[0;34m,\u001b[0m \u001b[0mcredentials_file\u001b[0m\u001b[0;34m)\u001b[0m\u001b[0;34m:\u001b[0m\u001b[0;34m\u001b[0m\u001b[0;34m\u001b[0m\u001b[0m\n\u001b[0;32m---> 10\u001b[0;31m         \u001b[0;32mwith\u001b[0m \u001b[0mopen\u001b[0m\u001b[0;34m(\u001b[0m\u001b[0mcredentials_file\u001b[0m\u001b[0;34m)\u001b[0m \u001b[0;32mas\u001b[0m \u001b[0mconfig_file\u001b[0m\u001b[0;34m:\u001b[0m\u001b[0;34m\u001b[0m\u001b[0;34m\u001b[0m\u001b[0m\n\u001b[0m\u001b[1;32m     11\u001b[0m             \u001b[0mdata\u001b[0m \u001b[0;34m=\u001b[0m \u001b[0mconfig_file\u001b[0m\u001b[0;34m.\u001b[0m\u001b[0mread\u001b[0m\u001b[0;34m(\u001b[0m\u001b[0;34m)\u001b[0m\u001b[0;34m\u001b[0m\u001b[0;34m\u001b[0m\u001b[0m\n\u001b[1;32m     12\u001b[0m \u001b[0;34m\u001b[0m\u001b[0m\n",
      "\u001b[0;31mFileNotFoundError\u001b[0m: [Errno 2] No such file or directory: 'credentials.json'"
     ]
    }
   ],
   "source": [
    "client = MangaDexClient(\"credentials.json\")"
   ]
  },
  {
   "cell_type": "code",
   "execution_count": null,
   "metadata": {},
   "outputs": [
    {
     "data": {
      "text/markdown": "<h4 id=\"MangaDexClient.get_manga_tags\" class=\"doc_header\"><code>MangaDexClient.get_manga_tags</code><a href=\"__main__.py#L20\" class=\"source_link\" style=\"float:right\">[source]</a></h4>\n\n> <code>MangaDexClient.get_manga_tags</code>()\n\nReturns a dict from human readable tag names to tag_ids for each tag in the mangadex database",
      "text/plain": "<IPython.core.display.Markdown object>"
     },
     "metadata": {},
     "output_type": "display_data"
    }
   ],
   "source": [
    "show_doc(MangaDexClient.get_manga_tags)"
   ]
  },
  {
   "cell_type": "markdown",
   "metadata": {},
   "source": [
    "Here's what it looks like:"
   ]
  },
  {
   "cell_type": "code",
   "execution_count": null,
   "metadata": {},
   "outputs": [
    {
     "data": {
      "text/plain": [
       "'cdc58593-87dd-415e-bbc0-2ec27bf404cc'"
      ]
     },
     "execution_count": null,
     "metadata": {},
     "output_type": "execute_result"
    }
   ],
   "source": [
    "tags = client.get_manga_tags()\n",
    "tags[\"Fantasy\"]"
   ]
  },
  {
   "cell_type": "code",
   "execution_count": null,
   "metadata": {},
   "outputs": [
    {
     "data": {
      "text/markdown": "<h4 id=\"MangaDexClient.search_manga_tags_covers\" class=\"doc_header\"><code>MangaDexClient.search_manga_tags_covers</code><a href=\"__main__.py#L34\" class=\"source_link\" style=\"float:right\">[source]</a></h4>\n\n> <code>MangaDexClient.search_manga_tags_covers</code>(**`total`**=*`None`*, **`limit`**=*`100`*, **`offset`**=*`0`*, **`includedTags`**=*`None`*, **`excludedTags`**=*`None`*)\n\nGets a list of manga with id, tags and cover image filenames",
      "text/plain": "<IPython.core.display.Markdown object>"
     },
     "metadata": {},
     "output_type": "display_data"
    }
   ],
   "source": [
    "show_doc(MangaDexClient.search_manga_tags_covers)"
   ]
  },
  {
   "cell_type": "markdown",
   "metadata": {},
   "source": [
    "We can use this method to get covers from mangas with the tags we want."
   ]
  },
  {
   "cell_type": "code",
   "execution_count": null,
   "metadata": {},
   "outputs": [
    {
     "data": {
      "text/plain": [
       "[{'mangaId': 'e78a489b-6632-4d61-b00b-5206f5b8b22b',\n",
       "  'tags': ['Reincarnation',\n",
       "   'Monsters',\n",
       "   'Action',\n",
       "   'Demons',\n",
       "   'Comedy',\n",
       "   'Samurai',\n",
       "   'Adventure',\n",
       "   'Magic',\n",
       "   'Isekai',\n",
       "   'Drama',\n",
       "   'Fantasy',\n",
       "   'Monster Girls',\n",
       "   'Adaptation'],\n",
       "  'cover_art_filenames': ['0bf34fa4-876a-4139-9685-001fa18ef094.jpg']}]"
      ]
     },
     "execution_count": null,
     "metadata": {},
     "output_type": "execute_result"
    }
   ],
   "source": [
    "mangas = client.search_manga_tags_covers(total=1, includedTags=tags[\"Fantasy\"])\n",
    "mangas"
   ]
  },
  {
   "cell_type": "markdown",
   "metadata": {},
   "source": [
    "# Mangadex helper methods\n",
    "\n",
    "Methods for handling some specific use cases."
   ]
  },
  {
   "cell_type": "code",
   "execution_count": null,
   "metadata": {},
   "outputs": [],
   "source": [
    "# export\n",
    "import pandas as pd\n",
    "from tqdm.auto import tqdm\n",
    "\n",
    "def get_covers_for_all_tags(num_mangas=20):\n",
    "    \"\"\"Returns a pandas DataFrame with covers image urls for each tag in the MangaDex database.\n",
    "    \n",
    "    It may be possible for a manga to show up in the query for multiple different tags, so we\n",
    "    deduplicate those cases.\n",
    "    \n",
    "    TODO: There seems to be an issue with the API where only one cover image is returned for each\n",
    "    manga. We need to investigate this further, so we do not run into the issue of having too much\n",
    "    data to handle unexpectedly if this behavior changes suddenly.\n",
    "    \"\"\"\n",
    "    try:\n",
    "        client = MangaDexClient('credentials.json')\n",
    "    except FileNotFoundError as e:\n",
    "        e.strerror = \"The current version expects a credentials.json file at cwd.\"\n",
    "        raise e\n",
    "    tags = client.get_manga_tags()\n",
    "    mangas = [\n",
    "        manga\n",
    "        for _, tag_id in tqdm(tags.items())\n",
    "        for manga in client.search_manga_tags_covers(total=num_mangas, includedTags=[tag_id])\n",
    "    ]\n",
    "\n",
    "    # Deduplicate mangas in list by mangaId\n",
    "    seen = set()\n",
    "    mangas = [\n",
    "        seen.add(manga[\"mangaId\"]) or manga\n",
    "        for manga in mangas\n",
    "        if manga[\"mangaId\"] not in seen\n",
    "    ]\n",
    "\n",
    "    return pd.DataFrame(\n",
    "        [\n",
    "            {\n",
    "                \"mangaId\": manga[\"mangaId\"],\n",
    "                \"url\": f'https://uploads.mangadex.org/covers/{manga[\"mangaId\"]}/{filename}',\n",
    "                \"filename\": f'{manga[\"mangaId\"]}_{filename}',\n",
    "                \"tags\": \"|\".join(manga[\"tags\"]),\n",
    "            }\n",
    "            for manga in mangas\n",
    "            for filename in manga[\"cover_art_filenames\"]\n",
    "        ]\n",
    "    )"
   ]
  },
  {
   "cell_type": "code",
   "execution_count": null,
   "metadata": {},
   "outputs": [],
   "source": [
    "show_doc(get_covers_for_all_tags)"
   ]
  },
  {
   "cell_type": "markdown",
   "metadata": {},
   "source": [
    "Here's how the DataFrame looks like:"
   ]
  },
  {
   "cell_type": "code",
   "execution_count": null,
   "metadata": {},
   "outputs": [],
   "source": [
    "get_covers_for_all_tags('../credentials.json').head()"
   ]
  },
  {
   "cell_type": "code",
   "execution_count": null,
   "metadata": {},
   "outputs": [],
   "source": []
  }
 ],
 "metadata": {
  "kernelspec": {
   "display_name": "Python 3.7.10 64-bit ('base': conda)",
   "name": "python3"
  }
 },
 "nbformat": 4,
 "nbformat_minor": 2
}
