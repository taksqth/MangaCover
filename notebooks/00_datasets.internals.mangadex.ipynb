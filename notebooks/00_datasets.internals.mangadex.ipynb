{
 "cells": [
  {
   "cell_type": "code",
   "execution_count": null,
   "metadata": {},
   "outputs": [],
   "source": [
    "# default_exp datasets.internals.MangaDex"
   ]
  },
  {
   "cell_type": "markdown",
   "metadata": {},
   "source": [
    "# MangaDexClient\n",
    "\n",
    "This class defines some wrappers for the MangaDex API (https://api.mangadex.org/docs.html), which we use to get manga labels and cover image urls from their database. We can use those to create our datasets for training."
   ]
  },
  {
   "cell_type": "code",
   "execution_count": null,
   "metadata": {},
   "outputs": [],
   "source": [
    "# hide\n",
    "from nbdev.showdoc import *"
   ]
  },
  {
   "cell_type": "code",
   "execution_count": null,
   "metadata": {},
   "outputs": [],
   "source": [
    "# export\n",
    "import requests\n",
    "import json\n",
    "\n",
    "\n",
    "class MangaDexClient:\n",
    "    \"\"\"Client for the MangaDex API\"\"\"\n",
    "\n",
    "    def __init__(self, credentials_file):\n",
    "        with open(credentials_file) as config_file:\n",
    "            data = config_file.read()\n",
    "\n",
    "        response = requests.post(\n",
    "            \"https://api.mangadex.org/auth/login\", json=json.loads(data)\n",
    "        )\n",
    "        content = json.loads(response.content)\n",
    "        self.refresh_token = content[\"token\"][\"refresh\"]\n",
    "        self.session_token = content[\"token\"][\"session\"]\n",
    "\n",
    "    def get_manga_tags(self):\n",
    "        \"\"\"Returns a dict from human readable tag names to tag_ids for each tag in the mangadex database\"\"\"\n",
    "        response = requests.get(\n",
    "            \"https://api.mangadex.org/manga/tag\",\n",
    "            headers={\n",
    "                \"Authorization\": f\"Bearer {self.session_token}\",\n",
    "            },\n",
    "        )\n",
    "        content = json.loads(response.content)\n",
    "        return {\n",
    "            item[\"data\"][\"attributes\"][\"name\"][\"en\"]: item[\"data\"][\"id\"]\n",
    "            for item in content\n",
    "        }\n",
    "\n",
    "    def search_manga_tags_covers(\n",
    "        self, total=None, limit=100, offset=0, includedTags=None, excludedTags=None\n",
    "    ):\n",
    "        \"\"\"Gets a list of manga with id, tags and cover image filenames\"\"\"\n",
    "        contents = []\n",
    "        while total is None or offset < total:\n",
    "            response = requests.get(\n",
    "                \"https://api.mangadex.org/manga\",\n",
    "                params={\n",
    "                    \"limit\": limit if not total else min(limit, total - offset),\n",
    "                    \"offset\": offset,\n",
    "                    \"includedTags[]\": includedTags,\n",
    "                    \"excludedTags[]\": excludedTags,\n",
    "                    \"includes[]\": \"cover_art\",\n",
    "                },\n",
    "                headers={\n",
    "                    \"Authorization\": f\"Bearer {self.session_token}\",\n",
    "                },\n",
    "            )\n",
    "            content = json.loads(response.content)\n",
    "            if not total:\n",
    "                total = content[\"total\"]\n",
    "            contents.append(content)\n",
    "            offset += limit\n",
    "\n",
    "        return [\n",
    "            {\n",
    "                \"mangaId\": result[\"data\"][\"id\"],\n",
    "                \"tags\": [\n",
    "                    tag[\"attributes\"][\"name\"][\"en\"]\n",
    "                    for tag in result[\"data\"][\"attributes\"][\"tags\"]\n",
    "                ],\n",
    "                \"cover_art_filenames\": [\n",
    "                    relationship[\"attributes\"][\"fileName\"]\n",
    "                    for relationship in result[\"relationships\"]\n",
    "                    if relationship[\"type\"] == \"cover_art\"\n",
    "                ],\n",
    "            }\n",
    "            for content in contents\n",
    "            for result in content[\"results\"]\n",
    "        ]"
   ]
  },
  {
   "cell_type": "code",
   "execution_count": null,
   "metadata": {},
   "outputs": [],
   "source": [
    "client = MangaDexClient(\"credentials.json\")"
   ]
  },
  {
   "cell_type": "code",
   "execution_count": null,
   "metadata": {},
   "outputs": [
    {
     "data": {
      "text/markdown": "<h4 id=\"MangaDexClient.get_manga_tags\" class=\"doc_header\"><code>MangaDexClient.get_manga_tags</code><a href=\"__main__.py#L20\" class=\"source_link\" style=\"float:right\">[source]</a></h4>\n\n> <code>MangaDexClient.get_manga_tags</code>()\n\nReturns a dict from human readable tag names to tag_ids for each tag in the mangadex database",
      "text/plain": "<IPython.core.display.Markdown object>"
     },
     "metadata": {},
     "output_type": "display_data"
    }
   ],
   "source": [
    "show_doc(MangaDexClient.get_manga_tags)"
   ]
  },
  {
   "cell_type": "markdown",
   "metadata": {},
   "source": [
    "Here's what it looks like:"
   ]
  },
  {
   "cell_type": "code",
   "execution_count": null,
   "metadata": {},
   "outputs": [
    {
     "data": {
      "text/plain": [
       "'cdc58593-87dd-415e-bbc0-2ec27bf404cc'"
      ]
     },
     "execution_count": null,
     "metadata": {},
     "output_type": "execute_result"
    }
   ],
   "source": [
    "tags = client.get_manga_tags()\n",
    "tags[\"Fantasy\"]"
   ]
  },
  {
   "cell_type": "code",
   "execution_count": null,
   "metadata": {},
   "outputs": [
    {
     "data": {
      "text/markdown": "<h4 id=\"MangaDexClient.search_manga_tags_covers\" class=\"doc_header\"><code>MangaDexClient.search_manga_tags_covers</code><a href=\"__main__.py#L34\" class=\"source_link\" style=\"float:right\">[source]</a></h4>\n\n> <code>MangaDexClient.search_manga_tags_covers</code>(**`total`**=*`None`*, **`limit`**=*`100`*, **`offset`**=*`0`*, **`includedTags`**=*`None`*, **`excludedTags`**=*`None`*)\n\nGets a list of manga with id, tags and cover image filenames",
      "text/plain": "<IPython.core.display.Markdown object>"
     },
     "metadata": {},
     "output_type": "display_data"
    }
   ],
   "source": [
    "show_doc(MangaDexClient.search_manga_tags_covers)"
   ]
  },
  {
   "cell_type": "markdown",
   "metadata": {},
   "source": [
    "We can use this method to get covers from mangas with the tags we want."
   ]
  },
  {
   "cell_type": "code",
   "execution_count": null,
   "metadata": {},
   "outputs": [
    {
     "data": {
      "text/plain": [
       "[{'mangaId': 'e78a489b-6632-4d61-b00b-5206f5b8b22b',\n",
       "  'tags': ['Reincarnation',\n",
       "   'Monsters',\n",
       "   'Action',\n",
       "   'Demons',\n",
       "   'Comedy',\n",
       "   'Samurai',\n",
       "   'Adventure',\n",
       "   'Magic',\n",
       "   'Isekai',\n",
       "   'Drama',\n",
       "   'Fantasy',\n",
       "   'Monster Girls',\n",
       "   'Adaptation'],\n",
       "  'cover_art_filenames': ['0bf34fa4-876a-4139-9685-001fa18ef094.jpg']}]"
      ]
     },
     "execution_count": null,
     "metadata": {},
     "output_type": "execute_result"
    }
   ],
   "source": [
    "mangas = client.search_manga_tags_covers(total=1, includedTags=tags[\"Fantasy\"])\n",
    "mangas"
   ]
  },
  {
   "cell_type": "markdown",
   "metadata": {},
   "source": [
    "# Mangadex helper methods\n",
    "\n",
    "Methods for handling some specific use cases."
   ]
  },
  {
   "cell_type": "code",
   "execution_count": null,
   "metadata": {},
   "outputs": [],
   "source": [
    "# export\n",
    "import pandas as pd\n",
    "from tqdm.auto import tqdm\n",
    "\n",
    "def get_covers_for_all_tags(num_mangas=20):\n",
    "    \"\"\"Returns a pandas DataFrame with covers image urls for each tag in the MangaDex database.\n",
    "    \n",
    "    It may be possible for a manga to show up in the query for multiple different tags, so we\n",
    "    deduplicate those cases.\n",
    "    \n",
    "    TODO: There seems to be an issue with the API where only one cover image is returned for each\n",
    "    manga. We need to investigate this further, so we do not run into the issue of having too much\n",
    "    data to handle unexpectedly if this behavior changes suddenly.\n",
    "    \"\"\"\n",
    "    client = MangaDexClient(\"credentials.json\")\n",
    "    tags = client.get_manga_tags()\n",
    "    mangas = [\n",
    "        manga\n",
    "        for _, tag_id in tqdm(tags.items())\n",
    "        for manga in client.search_manga_tags_covers(total=num_mangas, includedTags=[tag_id])\n",
    "    ]\n",
    "\n",
    "    # Deduplicate mangas in list by mangaId\n",
    "    seen = set()\n",
    "    mangas = [\n",
    "        seen.add(manga[\"mangaId\"]) or manga\n",
    "        for manga in mangas\n",
    "        if manga[\"mangaId\"] not in seen\n",
    "    ]\n",
    "\n",
    "    return pd.DataFrame(\n",
    "        [\n",
    "            {\n",
    "                \"mangaId\": manga[\"mangaId\"],\n",
    "                \"url\": f'https://uploads.mangadex.org/covers/{manga[\"mangaId\"]}/{filename}',\n",
    "                \"filename\": f'{manga[\"mangaId\"]}_{filename}',\n",
    "                \"tags\": \"|\".join(manga[\"tags\"]),\n",
    "            }\n",
    "            for manga in mangas\n",
    "            for filename in manga[\"cover_art_filenames\"]\n",
    "        ]\n",
    "    )"
   ]
  },
  {
   "cell_type": "code",
   "execution_count": null,
   "metadata": {},
   "outputs": [
    {
     "data": {
      "text/markdown": "<h4 id=\"get_covers_for_all_tags\" class=\"doc_header\"><code>get_covers_for_all_tags</code><a href=\"__main__.py#L5\" class=\"source_link\" style=\"float:right\">[source]</a></h4>\n\n> <code>get_covers_for_all_tags</code>(**`num_mangas`**=*`20`*)\n\nReturns a pandas DataFrame with covers image urls for each tag in the MangaDex database.\n\nIt may be possible for a manga to show up in the query for multiple different tags, so we\ndeduplicate those cases.\n\nTODO: There seems to be an issue with the API where only one cover image is returned for each\nmanga. We need to investigate this further, so we do not run into the issue of having too much\ndata to handle unexpectedly if this behavior changes suddenly.",
      "text/plain": "<IPython.core.display.Markdown object>"
     },
     "metadata": {},
     "output_type": "display_data"
    }
   ],
   "source": [
    "show_doc(get_covers_for_all_tags)"
   ]
  },
  {
   "cell_type": "markdown",
   "metadata": {},
   "source": [
    "Here's how the DataFrame looks like:"
   ]
  },
  {
   "cell_type": "code",
   "execution_count": null,
   "metadata": {},
   "outputs": [
    {
     "data": {
      "application/vnd.jupyter.widget-view+json": {
       "model_id": "180aa2ad43d74381985463517bad2ba8",
       "version_major": 2,
       "version_minor": 0
      },
      "text/plain": "  0%|          | 0/76 [00:00<?, ?it/s]"
     },
     "metadata": {},
     "output_type": "display_data"
    },
    {
     "data": {
      "text/html": "<div>\n<style scoped>\n    .dataframe tbody tr th:only-of-type {\n        vertical-align: middle;\n    }\n\n    .dataframe tbody tr th {\n        vertical-align: top;\n    }\n\n    .dataframe thead th {\n        text-align: right;\n    }\n</style>\n<table border=\"1\" class=\"dataframe\">\n  <thead>\n    <tr style=\"text-align: right;\">\n      <th></th>\n      <th>mangaId</th>\n      <th>url</th>\n      <th>filename</th>\n      <th>tags</th>\n    </tr>\n  </thead>\n  <tbody>\n    <tr>\n      <th>0</th>\n      <td>2661ccb2-9b4e-42bb-9697-bed499b9b363</td>\n      <td>https://uploads.mangadex.org/covers/2661ccb2-9...</td>\n      <td>2661ccb2-9b4e-42bb-9697-bed499b9b363_be17ccee-...</td>\n      <td>Oneshot|Reincarnation|Historical|Romance|Antho...</td>\n    </tr>\n    <tr>\n      <th>1</th>\n      <td>cb34b520-fd48-474e-8d06-a7a25473342e</td>\n      <td>https://uploads.mangadex.org/covers/cb34b520-f...</td>\n      <td>cb34b520-fd48-474e-8d06-a7a25473342e_5035057d-...</td>\n      <td>Oneshot|Romance|Comedy|Slice of Life</td>\n    </tr>\n    <tr>\n      <th>2</th>\n      <td>ab468776-27a5-456d-8f58-e058059531c9</td>\n      <td>https://uploads.mangadex.org/covers/ab468776-2...</td>\n      <td>ab468776-27a5-456d-8f58-e058059531c9_4a18ccf6-...</td>\n      <td>Oneshot|Romance|Comedy|Anthology|Office Worker...</td>\n    </tr>\n    <tr>\n      <th>3</th>\n      <td>11afa5c2-41dc-4cf3-8451-f306a3caf1ab</td>\n      <td>https://uploads.mangadex.org/covers/11afa5c2-4...</td>\n      <td>11afa5c2-41dc-4cf3-8451-f306a3caf1ab_31616f14-...</td>\n      <td>Oneshot|Romance|Comedy|Anthology|Office Worker...</td>\n    </tr>\n    <tr>\n      <th>4</th>\n      <td>cd8197af-e771-46de-82a0-5e70f977e6a1</td>\n      <td>https://uploads.mangadex.org/covers/cd8197af-e...</td>\n      <td>cd8197af-e771-46de-82a0-5e70f977e6a1_a5a3b64c-...</td>\n      <td>Oneshot|Romance|Comedy|Anthology|School Life</td>\n    </tr>\n  </tbody>\n</table>\n</div>",
      "text/plain": [
       "                                mangaId  \\\n",
       "0  2661ccb2-9b4e-42bb-9697-bed499b9b363   \n",
       "1  cb34b520-fd48-474e-8d06-a7a25473342e   \n",
       "2  ab468776-27a5-456d-8f58-e058059531c9   \n",
       "3  11afa5c2-41dc-4cf3-8451-f306a3caf1ab   \n",
       "4  cd8197af-e771-46de-82a0-5e70f977e6a1   \n",
       "\n",
       "                                                 url  \\\n",
       "0  https://uploads.mangadex.org/covers/2661ccb2-9...   \n",
       "1  https://uploads.mangadex.org/covers/cb34b520-f...   \n",
       "2  https://uploads.mangadex.org/covers/ab468776-2...   \n",
       "3  https://uploads.mangadex.org/covers/11afa5c2-4...   \n",
       "4  https://uploads.mangadex.org/covers/cd8197af-e...   \n",
       "\n",
       "                                            filename  \\\n",
       "0  2661ccb2-9b4e-42bb-9697-bed499b9b363_be17ccee-...   \n",
       "1  cb34b520-fd48-474e-8d06-a7a25473342e_5035057d-...   \n",
       "2  ab468776-27a5-456d-8f58-e058059531c9_4a18ccf6-...   \n",
       "3  11afa5c2-41dc-4cf3-8451-f306a3caf1ab_31616f14-...   \n",
       "4  cd8197af-e771-46de-82a0-5e70f977e6a1_a5a3b64c-...   \n",
       "\n",
       "                                                tags  \n",
       "0  Oneshot|Reincarnation|Historical|Romance|Antho...  \n",
       "1               Oneshot|Romance|Comedy|Slice of Life  \n",
       "2  Oneshot|Romance|Comedy|Anthology|Office Worker...  \n",
       "3  Oneshot|Romance|Comedy|Anthology|Office Worker...  \n",
       "4       Oneshot|Romance|Comedy|Anthology|School Life  "
      ]
     },
     "execution_count": null,
     "metadata": {},
     "output_type": "execute_result"
    }
   ],
   "source": [
    "get_covers_for_all_tags().head()"
   ]
  },
  {
   "cell_type": "markdown",
   "metadata": {},
   "source": []
  }
 ],
 "metadata": {
  "kernelspec": {
   "display_name": "Python 3",
   "language": "python",
   "name": "python3"
  }
 },
 "nbformat": 4,
 "nbformat_minor": 2
}
