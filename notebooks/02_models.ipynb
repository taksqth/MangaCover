{
 "cells": [
  {
   "cell_type": "code",
   "execution_count": null,
   "metadata": {},
   "outputs": [],
   "source": [
    "# default_exp datasets.loaders"
   ]
  },
  {
   "cell_type": "markdown",
   "metadata": {},
   "source": [
    "# Dataset loaders\n",
    "\n",
    "Methods for downloading the manga covers from the MangaDex database."
   ]
  },
  {
   "cell_type": "code",
   "execution_count": null,
   "metadata": {},
   "outputs": [],
   "source": [
    "# hide\n",
    "from nbdev.showdoc import *"
   ]
  },
  {
   "cell_type": "code",
   "execution_count": null,
   "metadata": {},
   "outputs": [],
   "source": [
    "# export\n",
    "from PIL import Image, UnidentifiedImageError\n",
    "from pathlib import Path\n",
    "from tqdm.auto import tqdm\n",
    "from mangacover.datasets.internals.MangaDex import get_covers_for_all_tags\n",
    "\n",
    "def create_multiclass_tag_manga_dataset(path):\n",
    "    \"\"\"Saves a dataset for the multiclassification problem of deriving the tags associated with\n",
    "    a manga by its cover, in `path`.\n",
    "    \"\"\"\n",
    "    manga_df = get_covers_for_all_tags()\n",
    "    folder = Path(f'{path}')\n",
    "    folder.mkdir(parents=True, exist_ok=True)\n",
    "    manga_df.to_csv(folder/'dataset.csv')\n",
    "    for manga in tqdm(list(manga_df.itertuples())):\n",
    "        my_file = folder/manga.filename\n",
    "        if my_file.exists():\n",
    "            continue\n",
    "        try:\n",
    "            im = Image.open(requests.get(manga.url, stream=True).raw)\n",
    "            im.save(folder/manga.filename)\n",
    "        except UnidentifiedImageError:\n",
    "            print(\"Warning: Couldn't identify image file \" + manga.filename + \". Skipping.\")"
   ]
  },
  {
   "cell_type": "code",
   "execution_count": null,
   "metadata": {},
   "outputs": [
    {
     "data": {
      "text/markdown": "<h4 id=\"create_multiclass_tag_manga_dataset\" class=\"doc_header\"><code>create_multiclass_tag_manga_dataset</code><a href=\"__main__.py#L7\" class=\"source_link\" style=\"float:right\">[source]</a></h4>\n\n> <code>create_multiclass_tag_manga_dataset</code>(**`path`**)\n\nSaves a dataset for the multiclassification problem of deriving the tags associated with\na manga by its cover, in `path`.",
      "text/plain": "<IPython.core.display.Markdown object>"
     },
     "metadata": {},
     "output_type": "display_data"
    }
   ],
   "source": [
    "show_doc(create_multiclass_tag_manga_dataset)"
   ]
  },
  {
   "cell_type": "markdown",
   "metadata": {},
   "source": [
    "Let's create the dataset in the `data/` folder"
   ]
  },
  {
   "cell_type": "code",
   "execution_count": null,
   "metadata": {},
   "outputs": [
    {
     "data": {
      "text/plain": [
       "'cdc58593-87dd-415e-bbc0-2ec27bf404cc'"
      ]
     },
     "execution_count": null,
     "metadata": {},
     "output_type": "execute_result"
    }
   ],
   "source": [
    "create_multiclass_tag_manga_dataset('data/')"
   ]
  },
  {
   "cell_type": "code",
   "execution_count": null,
   "metadata": {},
   "outputs": [
    {
     "data": {
      "text/markdown": "<h4 id=\"MangaDexClient.search_manga_tags_covers\" class=\"doc_header\"><code>MangaDexClient.search_manga_tags_covers</code><a href=\"__main__.py#L34\" class=\"source_link\" style=\"float:right\">[source]</a></h4>\n\n> <code>MangaDexClient.search_manga_tags_covers</code>(**`total`**=*`None`*, **`limit`**=*`100`*, **`offset`**=*`0`*, **`includedTags`**=*`None`*, **`excludedTags`**=*`None`*)\n\nGets a list of manga with id, tags and cover image filenames",
      "text/plain": "<IPython.core.display.Markdown object>"
     },
     "metadata": {},
     "output_type": "display_data"
    }
   ],
   "source": [
    "show_doc(MangaDexClient.search_manga_tags_covers)"
   ]
  },
  {
   "cell_type": "markdown",
   "metadata": {},
   "source": [
    "We can use this method to get covers from mangas that have (or don't) certain tags"
   ]
  },
  {
   "cell_type": "code",
   "execution_count": null,
   "metadata": {},
   "outputs": [],
   "source": [
    "mangas = client.search_manga_tags_covers(includedTags=[\"fantasy\"])\n",
    "mangas[:3]"
   ]
  }
 ],
 "metadata": {
  "kernelspec": {
   "display_name": "Python 3",
   "language": "python",
   "name": "python3"
  }
 },
 "nbformat": 4,
 "nbformat_minor": 2
}
