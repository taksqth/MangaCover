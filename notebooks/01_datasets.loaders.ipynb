{
 "cells": [
  {
   "cell_type": "code",
   "execution_count": null,
   "metadata": {},
   "outputs": [],
   "source": [
    "# default_exp datasets.loaders"
   ]
  },
  {
   "cell_type": "markdown",
   "metadata": {},
   "source": [
    "# Dataset loaders\n",
    "\n",
    "Methods for downloading the manga covers from the MangaDex database."
   ]
  },
  {
   "cell_type": "code",
   "execution_count": null,
   "metadata": {},
   "outputs": [],
   "source": [
    "# hide\n",
    "from nbdev.showdoc import *"
   ]
  },
  {
   "cell_type": "code",
   "execution_count": null,
   "metadata": {},
   "outputs": [],
   "source": [
    "# export\n",
    "from PIL import Image, UnidentifiedImageError\n",
    "from pathlib import Path\n",
    "from tqdm.auto import tqdm\n",
    "from mangacover.datasets.internals.MangaDex import get_covers_for_all_tags\n",
    "\n",
    "def create_multiclass_tag_manga_dataset(path, num_mangas=20):\n",
    "    \"\"\"Saves a dataset for the multiclassification problem of deriving the tags associated with\n",
    "    a manga by its cover, in `path`.\n",
    "    \"\"\"\n",
    "    print('Fetching manga metadata from the MangaDex API...')\n",
    "    manga_df = get_covers_for_all_tags(num_mangas)\n",
    "    folder = Path(f'{path}')\n",
    "    folder.mkdir(parents=True, exist_ok=True)\n",
    "    print(f'Saving data to {folder}...')\n",
    "    for manga in tqdm(list(manga_df.itertuples())):\n",
    "        my_file = folder/manga.filename\n",
    "        if my_file.exists():\n",
    "            manga_df.at[manga.Index, 'failed'] = False\n",
    "            continue\n",
    "        try:\n",
    "            im = Image.open(requests.get(manga.url, stream=True).raw)\n",
    "            im.save(folder/manga.filename)\n",
    "            manga_df.at[manga.Index, 'failed'] = False\n",
    "        except UnidentifiedImageError:\n",
    "            print(\"Warning: Couldn't identify image file \" + manga.filename + \". Skipping.\")\n",
    "            manga_df.at[manga.Index, 'failed'] = True\n",
    "    metadata_csv_path = folder/'dataset.csv'\n",
    "    print(f'Writing metadata csv file at {metadata_csv_path}')\n",
    "    manga_df.to_csv(metadata_csv_path)\n",
    "    print('Done.')"
   ]
  },
  {
   "cell_type": "code",
   "execution_count": null,
   "metadata": {},
   "outputs": [
    {
     "data": {
      "text/markdown": "<h4 id=\"create_multiclass_tag_manga_dataset\" class=\"doc_header\"><code>create_multiclass_tag_manga_dataset</code><a href=\"__main__.py#L7\" class=\"source_link\" style=\"float:right\">[source]</a></h4>\n\n> <code>create_multiclass_tag_manga_dataset</code>(**`path`**, **`num_mangas`**=*`20`*)\n\nSaves a dataset for the multiclassification problem of deriving the tags associated with\na manga by its cover, in `path`.",
      "text/plain": "<IPython.core.display.Markdown object>"
     },
     "metadata": {},
     "output_type": "display_data"
    }
   ],
   "source": [
    "show_doc(create_multiclass_tag_manga_dataset)"
   ]
  },
  {
   "cell_type": "markdown",
   "metadata": {},
   "source": [
    "Let's create the dataset in the `data/` folder"
   ]
  },
  {
   "cell_type": "code",
   "execution_count": null,
   "metadata": {},
   "outputs": [
    {
     "name": "stdout",
     "output_type": "stream",
     "text": [
      "Fetching manga metadata from the MangaDex API...\n"
     ]
    },
    {
     "data": {
      "application/vnd.jupyter.widget-view+json": {
       "model_id": "3752e5e5e10d41dfb1d30a8d90504566",
       "version_major": 2,
       "version_minor": 0
      },
      "text/plain": "  0%|          | 0/76 [00:00<?, ?it/s]"
     },
     "metadata": {},
     "output_type": "display_data"
    },
    {
     "name": "stdout",
     "output_type": "stream",
     "text": [
      "Saving data to data...\n"
     ]
    },
    {
     "data": {
      "application/vnd.jupyter.widget-view+json": {
       "model_id": "5f842e66a97e4c26aff2553c5dc80f71",
       "version_major": 2,
       "version_minor": 0
      },
      "text/plain": "  0%|          | 0/833 [00:00<?, ?it/s]"
     },
     "metadata": {},
     "output_type": "display_data"
    },
    {
     "name": "stdout",
     "output_type": "stream",
     "text": [
      "Writing metadata csv file at data/dataset.csv\nDone.\n"
     ]
    }
   ],
   "source": [
    "create_multiclass_tag_manga_dataset('data/')"
   ]
  },
  {
   "cell_type": "markdown",
   "metadata": {},
   "source": [
    "Here's how the metadata csv file looks like. We can use the `filename` to load the files and the `tags` are pipe (|) separated, so we need to handle those to pass to our model."
   ]
  },
  {
   "cell_type": "code",
   "execution_count": null,
   "metadata": {},
   "outputs": [
    {
     "data": {
      "text/html": "<div>\n<style scoped>\n    .dataframe tbody tr th:only-of-type {\n        vertical-align: middle;\n    }\n\n    .dataframe tbody tr th {\n        vertical-align: top;\n    }\n\n    .dataframe thead th {\n        text-align: right;\n    }\n</style>\n<table border=\"1\" class=\"dataframe\">\n  <thead>\n    <tr style=\"text-align: right;\">\n      <th></th>\n      <th>Unnamed: 0</th>\n      <th>mangaId</th>\n      <th>url</th>\n      <th>filename</th>\n      <th>tags</th>\n      <th>failed</th>\n    </tr>\n  </thead>\n  <tbody>\n    <tr>\n      <th>0</th>\n      <td>0</td>\n      <td>2661ccb2-9b4e-42bb-9697-bed499b9b363</td>\n      <td>https://uploads.mangadex.org/covers/2661ccb2-9...</td>\n      <td>2661ccb2-9b4e-42bb-9697-bed499b9b363_be17ccee-...</td>\n      <td>Oneshot|Reincarnation|Historical|Romance|Antho...</td>\n      <td>False</td>\n    </tr>\n    <tr>\n      <th>1</th>\n      <td>1</td>\n      <td>cb34b520-fd48-474e-8d06-a7a25473342e</td>\n      <td>https://uploads.mangadex.org/covers/cb34b520-f...</td>\n      <td>cb34b520-fd48-474e-8d06-a7a25473342e_5035057d-...</td>\n      <td>Oneshot|Romance|Comedy|Slice of Life</td>\n      <td>False</td>\n    </tr>\n    <tr>\n      <th>2</th>\n      <td>2</td>\n      <td>ab468776-27a5-456d-8f58-e058059531c9</td>\n      <td>https://uploads.mangadex.org/covers/ab468776-2...</td>\n      <td>ab468776-27a5-456d-8f58-e058059531c9_4a18ccf6-...</td>\n      <td>Oneshot|Romance|Comedy|Anthology|Office Worker...</td>\n      <td>False</td>\n    </tr>\n    <tr>\n      <th>3</th>\n      <td>3</td>\n      <td>11afa5c2-41dc-4cf3-8451-f306a3caf1ab</td>\n      <td>https://uploads.mangadex.org/covers/11afa5c2-4...</td>\n      <td>11afa5c2-41dc-4cf3-8451-f306a3caf1ab_31616f14-...</td>\n      <td>Oneshot|Romance|Comedy|Anthology|Office Worker...</td>\n      <td>False</td>\n    </tr>\n    <tr>\n      <th>4</th>\n      <td>4</td>\n      <td>cd8197af-e771-46de-82a0-5e70f977e6a1</td>\n      <td>https://uploads.mangadex.org/covers/cd8197af-e...</td>\n      <td>cd8197af-e771-46de-82a0-5e70f977e6a1_a5a3b64c-...</td>\n      <td>Oneshot|Romance|Comedy|Anthology|School Life</td>\n      <td>False</td>\n    </tr>\n  </tbody>\n</table>\n</div>",
      "text/plain": [
       "   Unnamed: 0                               mangaId  \\\n",
       "0           0  2661ccb2-9b4e-42bb-9697-bed499b9b363   \n",
       "1           1  cb34b520-fd48-474e-8d06-a7a25473342e   \n",
       "2           2  ab468776-27a5-456d-8f58-e058059531c9   \n",
       "3           3  11afa5c2-41dc-4cf3-8451-f306a3caf1ab   \n",
       "4           4  cd8197af-e771-46de-82a0-5e70f977e6a1   \n",
       "\n",
       "                                                 url  \\\n",
       "0  https://uploads.mangadex.org/covers/2661ccb2-9...   \n",
       "1  https://uploads.mangadex.org/covers/cb34b520-f...   \n",
       "2  https://uploads.mangadex.org/covers/ab468776-2...   \n",
       "3  https://uploads.mangadex.org/covers/11afa5c2-4...   \n",
       "4  https://uploads.mangadex.org/covers/cd8197af-e...   \n",
       "\n",
       "                                            filename  \\\n",
       "0  2661ccb2-9b4e-42bb-9697-bed499b9b363_be17ccee-...   \n",
       "1  cb34b520-fd48-474e-8d06-a7a25473342e_5035057d-...   \n",
       "2  ab468776-27a5-456d-8f58-e058059531c9_4a18ccf6-...   \n",
       "3  11afa5c2-41dc-4cf3-8451-f306a3caf1ab_31616f14-...   \n",
       "4  cd8197af-e771-46de-82a0-5e70f977e6a1_a5a3b64c-...   \n",
       "\n",
       "                                                tags  failed  \n",
       "0  Oneshot|Reincarnation|Historical|Romance|Antho...   False  \n",
       "1               Oneshot|Romance|Comedy|Slice of Life   False  \n",
       "2  Oneshot|Romance|Comedy|Anthology|Office Worker...   False  \n",
       "3  Oneshot|Romance|Comedy|Anthology|Office Worker...   False  \n",
       "4       Oneshot|Romance|Comedy|Anthology|School Life   False  "
      ]
     },
     "execution_count": null,
     "metadata": {},
     "output_type": "execute_result"
    }
   ],
   "source": [
    "import pandas as pd\n",
    "\n",
    "mangas_df = pd.read_csv('data/dataset.csv')\n",
    "mangas_df.head()"
   ]
  }
 ],
 "metadata": {
  "kernelspec": {
   "display_name": "Python 3",
   "language": "python",
   "name": "python3"
  }
 },
 "nbformat": 4,
 "nbformat_minor": 2
}
