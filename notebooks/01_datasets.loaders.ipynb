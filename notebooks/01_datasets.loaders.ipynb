{
 "cells": [
  {
   "cell_type": "code",
   "execution_count": null,
   "metadata": {},
   "outputs": [],
   "source": [
    "# default_exp datasets.loaders"
   ]
  },
  {
   "cell_type": "markdown",
   "metadata": {},
   "source": [
    "# Dataset loaders\n",
    "\n",
    "Methods for downloading the manga covers from the MangaDex database."
   ]
  },
  {
   "cell_type": "code",
   "execution_count": null,
   "metadata": {},
   "outputs": [],
   "source": [
    "# hide\n",
    "from nbdev.showdoc import *"
   ]
  },
  {
   "cell_type": "code",
   "execution_count": null,
   "metadata": {},
   "outputs": [],
   "source": [
    "# export\n",
    "import pandas as pd\n",
    "from tqdm.auto import tqdm\n",
    "from mangacover.datasets.internals.MangaDex import MangaDexClient\n",
    "\n",
    "\n",
    "def _get_covers_for_all_tags(num_mangas=10):\n",
    "    client = MangaDexClient(\"credentials.json\")\n",
    "    tags = client.get_manga_tags()\n",
    "    mangas = [\n",
    "        manga\n",
    "        for _, tag_id in tqdm(tags.items())\n",
    "        for manga in client.search_manga_tags_covers(total=20, includedTags=[tag_id])\n",
    "    ]\n",
    "\n",
    "    # Deduplicate mangas in list by mangaId\n",
    "    seen = set()\n",
    "    mangas = [\n",
    "        seen.add(manga[\"mangaId\"]) or manga\n",
    "        for manga in mangas\n",
    "        if manga[\"mangaId\"] not in seen\n",
    "    ]\n",
    "\n",
    "    return pd.DataFrame(\n",
    "        [\n",
    "            {\n",
    "                \"mangaId\": manga[\"mangaId\"],\n",
    "                \"url\": f'https://uploads.mangadex.org/covers/{manga[\"mangaId\"]}/{filename}',\n",
    "                \"filename\": f'{manga[\"mangaId\"]}_{filename}',\n",
    "                \"tags\": \"|\".join(manga[\"tags\"]),\n",
    "            }\n",
    "            for manga in mangas\n",
    "            for filename in manga[\"cover_art_filenames\"]\n",
    "        ]\n",
    "    )"
   ]
  },
  {
   "cell_type": "markdown",
   "metadata": {},
   "source": [
    "We use the MangaDexAPI (https://api.mangadex.org/docs.html) to get labels and covers references for the manga. We can use those to create our dataset. "
   ]
  },
  {
   "cell_type": "code",
   "execution_count": null,
   "metadata": {},
   "outputs": [],
   "source": [
    "client = MangaDexClient(\"notebooks/credentials.json\")"
   ]
  },
  {
   "cell_type": "code",
   "execution_count": null,
   "metadata": {},
   "outputs": [
    {
     "data": {
      "text/markdown": "<h4 id=\"MangaDexClient.get_manga_tags\" class=\"doc_header\"><code>MangaDexClient.get_manga_tags</code><a href=\"__main__.py#L20\" class=\"source_link\" style=\"float:right\">[source]</a></h4>\n\n> <code>MangaDexClient.get_manga_tags</code>()\n\nReturns a dict from human readable tag names to tag_ids for each tag in the mangadex database",
      "text/plain": "<IPython.core.display.Markdown object>"
     },
     "metadata": {},
     "output_type": "display_data"
    }
   ],
   "source": [
    "show_doc(MangaDexClient.get_manga_tags)"
   ]
  },
  {
   "cell_type": "markdown",
   "metadata": {},
   "source": [
    "Here's what it looks like:"
   ]
  },
  {
   "cell_type": "code",
   "execution_count": null,
   "metadata": {},
   "outputs": [
    {
     "data": {
      "text/plain": [
       "'cdc58593-87dd-415e-bbc0-2ec27bf404cc'"
      ]
     },
     "execution_count": null,
     "metadata": {},
     "output_type": "execute_result"
    }
   ],
   "source": [
    "tags = client.get_manga_tags()\n",
    "tags[\"Fantasy\"]"
   ]
  },
  {
   "cell_type": "code",
   "execution_count": null,
   "metadata": {},
   "outputs": [
    {
     "data": {
      "text/markdown": "<h4 id=\"MangaDexClient.search_manga_tags_covers\" class=\"doc_header\"><code>MangaDexClient.search_manga_tags_covers</code><a href=\"__main__.py#L34\" class=\"source_link\" style=\"float:right\">[source]</a></h4>\n\n> <code>MangaDexClient.search_manga_tags_covers</code>(**`total`**=*`None`*, **`limit`**=*`100`*, **`offset`**=*`0`*, **`includedTags`**=*`None`*, **`excludedTags`**=*`None`*)\n\nGets a list of manga with id, tags and cover image filenames",
      "text/plain": "<IPython.core.display.Markdown object>"
     },
     "metadata": {},
     "output_type": "display_data"
    }
   ],
   "source": [
    "show_doc(MangaDexClient.search_manga_tags_covers)"
   ]
  },
  {
   "cell_type": "markdown",
   "metadata": {},
   "source": [
    "We can use this method to get covers from mangas that have (or don't) certain tags"
   ]
  },
  {
   "cell_type": "code",
   "execution_count": null,
   "metadata": {},
   "outputs": [],
   "source": [
    "mangas = client.search_manga_tags_covers(includedTags=[\"fantasy\"])\n",
    "mangas[:3]"
   ]
  }
 ],
 "metadata": {
  "kernelspec": {
   "display_name": "Python 3",
   "language": "python",
   "name": "python3"
  }
 },
 "nbformat": 4,
 "nbformat_minor": 2
}
